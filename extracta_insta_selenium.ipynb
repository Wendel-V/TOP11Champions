{
 "cells": [
  {
   "cell_type": "markdown",
   "id": "64a2780e",
   "metadata": {},
   "source": [
    "# Extract data from instagram with Selenium"
   ]
  },
  {
   "cell_type": "markdown",
   "id": "200ae4dc",
   "metadata": {},
   "source": [
    "## Imports"
   ]
  },
  {
   "cell_type": "code",
   "execution_count": 1,
   "id": "fe2720a3",
   "metadata": {},
   "outputs": [],
   "source": [
    "from selenium import webdriver\n",
    "from selenium.webdriver.common.keys import Keys\n",
    "from selenium.webdriver.support import expected_conditions as EC\n",
    "from selenium.webdriver.common.by import By\n",
    "from selenium.webdriver.support.wait import WebDriverWait\n",
    "from bs4 import BeautifulSoup\n",
    "import pandas as pd\n",
    "from datetime import date"
   ]
  },
  {
   "cell_type": "code",
   "execution_count": 2,
   "id": "383b2bed",
   "metadata": {},
   "outputs": [],
   "source": [
    "#Acessando a pagina pelo chrome webdriver\n",
    "driver = webdriver.Chrome('chromedriver')\n",
    "driver.get('https://www.instagram.com/')"
   ]
  },
  {
   "cell_type": "code",
   "execution_count": 3,
   "id": "44e95cd9",
   "metadata": {},
   "outputs": [],
   "source": [
    "#Fazendo login\n",
    "username = WebDriverWait(driver, 10).until(EC.element_to_be_clickable((By.CSS_SELECTOR, \"input[name='username']\")))\n",
    "password = WebDriverWait(driver, 10).until(EC.element_to_be_clickable((By.CSS_SELECTOR, \"input[name='password']\")))\n",
    "\n",
    "username.clear()\n",
    "password.clear()\n",
    "\n",
    "username.send_keys('scrap1234567')\n",
    "password.send_keys('Fe@nor@12345')\n",
    "\n",
    "log_in = WebDriverWait(driver, 10).until(EC.element_to_be_clickable((By.CSS_SELECTOR, \"button[type='submit']\"))).click()\n",
    "\n",
    "\n",
    "#Pulando os Pop ups\n",
    "not_now = WebDriverWait(driver, 10).until(EC.element_to_be_clickable((By.XPATH, \"//button[contains(text(), 'Agora não')]\"))).click()\n",
    "not_now2 = WebDriverWait(driver, 10).until(EC.element_to_be_clickable((By.XPATH, \"//button[contains(text(), 'Agora não')]\"))).click()"
   ]
  },
  {
   "cell_type": "code",
   "execution_count": 4,
   "id": "f1e71c65",
   "metadata": {},
   "outputs": [],
   "source": [
    "#Função para puxar dados de um determinado perfil\n",
    "def dados_perfil(nome):\n",
    "    #Procurando um perfil\n",
    "    searchbox = WebDriverWait(driver, 10).until(EC.element_to_be_clickable((By.XPATH, \"//input[@placeholder='Pesquisar']\")))\n",
    "    searchbox.clear()\n",
    "    keyword = nome\n",
    "    searchbox.send_keys(keyword)\n",
    "    searchbox.send_keys(Keys.ENTER)\n",
    "    user = WebDriverWait(driver, 10).until(EC.element_to_be_clickable((By.CSS_SELECTOR, \"a[class='-qQT3']\"))).click()\n",
    "\n",
    "    #Extraindo nome de usuario\n",
    "    insta_user = WebDriverWait(driver, 10).until(EC.element_to_be_clickable((By.CSS_SELECTOR, \"h2[class='_7UhW9       fKFbl yUEEX   KV-D4              fDxYl     ']\"))).text\n",
    "\n",
    "    #Extraindo o cabeçalho com posts, seguidores e seguindo\n",
    "    insta_info = WebDriverWait(driver, 10).until(EC.element_to_be_clickable((By.CSS_SELECTOR, \"ul[class='k9GMp ']\"))).get_attribute('innerHTML')\n",
    "\n",
    "    soup = BeautifulSoup(insta_info, 'html.parser')\n",
    "\n",
    "    posts = soup.findAll('span', {'class':'g47SY'})[0].text\n",
    "    posts = int(posts.replace('.',''))\n",
    "\n",
    "    followers = soup.findAll('span', {'class':'g47SY'})[1].attrs['title']\n",
    "    followers = int(followers.replace('.',''))\n",
    "\n",
    "    following = soup.findAll('span', {'class':'g47SY'})[2].text\n",
    "    following = int(following.replace('.',''))\n",
    "\n",
    "    jogador = {\n",
    "              'posts':posts,\n",
    "              'seguidores':followers,\n",
    "              'seguindo':following}\n",
    "    \n",
    "    #Voltando à home do instagram\n",
    "    back_home = driver.get('https://www.instagram.com/')\n",
    "    \n",
    "    return jogador\n",
    "\n",
    "#Função que lê o arquivo com todos os nomes de jogadores e puxa os dados do dia \n",
    "def coleta_dados(usuarios):\n",
    "    file = open(usuarios).read().split()\n",
    "    hoje = date.today().strftime('%d-%m-%Y')\n",
    "    for usuario in file:\n",
    "        perfil = dados_perfil(usuario)\n",
    "        \n",
    "        to_add = perfil\n",
    "        to_add['data'] = hoje\n",
    "\n",
    "\n",
    "        df_jogador = pd.read_csv('dados/' + usuario + '.csv')\n",
    "        df_jogador = df_jogador.append(to_add, ignore_index = True)\n",
    "        df_jogador.to_csv('dados/' + usuario + '.csv', sep = ',', index = False)\n",
    "        "
   ]
  },
  {
   "cell_type": "code",
   "execution_count": 5,
   "id": "62dd13df",
   "metadata": {},
   "outputs": [],
   "source": [
    "file = open('jogadores_insta')\n",
    "usuarios = file.read().split()\n",
    "for usuario in usuarios:\n",
    "    pd.DataFrame(columns = ['data', 'seguidores', 'seguindo', 'posts']).to_csv('dados/' + usuario + '.csv', sep = ',', index = False)"
   ]
  },
  {
   "cell_type": "code",
   "execution_count": 6,
   "id": "3ec1ed69",
   "metadata": {},
   "outputs": [],
   "source": [
    "coleta_dados('jogadores_insta')"
   ]
  },
  {
   "cell_type": "code",
   "execution_count": null,
   "id": "dcf67536",
   "metadata": {},
   "outputs": [],
   "source": []
  }
 ],
 "metadata": {
  "kernelspec": {
   "display_name": "Python 3 (ipykernel)",
   "language": "python",
   "name": "python3"
  },
  "language_info": {
   "codemirror_mode": {
    "name": "ipython",
    "version": 3
   },
   "file_extension": ".py",
   "mimetype": "text/x-python",
   "name": "python",
   "nbconvert_exporter": "python",
   "pygments_lexer": "ipython3",
   "version": "3.8.10"
  }
 },
 "nbformat": 4,
 "nbformat_minor": 5
}
